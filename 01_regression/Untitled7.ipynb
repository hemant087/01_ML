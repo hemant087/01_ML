{
 "cells": [
  {
   "cell_type": "code",
   "execution_count": 1,
   "id": "c458ac5f-89cd-4a5a-b666-d9dfe6679b47",
   "metadata": {},
   "outputs": [],
   "source": [
    "import numpy as np \n",
    "import random "
   ]
  },
  {
   "cell_type": "code",
   "execution_count": 38,
   "id": "96291c6b-79cb-4bfd-adca-71ee555ee2a3",
   "metadata": {},
   "outputs": [],
   "source": [
    "arr = []\n",
    "for i in range(100):\n",
    "    arr.append(random.randint(1,6))"
   ]
  },
  {
   "cell_type": "code",
   "execution_count": 40,
   "id": "edfb83bb-04e3-48a4-9382-1ea89c42918d",
   "metadata": {},
   "outputs": [
    {
     "data": {
      "text/plain": [
       "100"
      ]
     },
     "execution_count": 40,
     "metadata": {},
     "output_type": "execute_result"
    }
   ],
   "source": [
    "len(arr)"
   ]
  },
  {
   "cell_type": "code",
   "execution_count": 42,
   "id": "63bcbba3-39e2-465d-bcce-73a26e22f1f0",
   "metadata": {},
   "outputs": [
    {
     "data": {
      "text/plain": [
       "3.46"
      ]
     },
     "execution_count": 42,
     "metadata": {},
     "output_type": "execute_result"
    }
   ],
   "source": [
    "np.array(arr).mean()"
   ]
  },
  {
   "cell_type": "code",
   "execution_count": 20,
   "id": "f93647dd-b91a-4098-86e9-d4e2ff3ae370",
   "metadata": {},
   "outputs": [
    {
     "data": {
      "text/plain": [
       "3.497829"
      ]
     },
     "execution_count": 20,
     "metadata": {},
     "output_type": "execute_result"
    }
   ],
   "source": [
    "np.array(arr).mean()"
   ]
  },
  {
   "cell_type": "code",
   "execution_count": 2,
   "id": "fc869231-37fa-4f6a-91a2-f7da3c11edb2",
   "metadata": {},
   "outputs": [
    {
     "name": "stdout",
     "output_type": "stream",
     "text": [
      "   carat      cut color clarity  depth  table  price     x     y     z\n",
      "0   0.23    Ideal     E     SI2   61.5   55.0    326  3.95  3.98  2.43\n",
      "1   0.21  Premium     E     SI1   59.8   61.0    326  3.89  3.84  2.31\n",
      "2   0.23     Good     E     VS1   56.9   65.0    327  4.05  4.07  2.31\n",
      "3   0.29  Premium     I     VS2   62.4   58.0    334  4.20  4.23  2.63\n",
      "4   0.31     Good     J     SI2   63.3   58.0    335  4.34  4.35  2.75\n",
      "R2 Score: 0.858953546861451\n",
      "Mean Squared Error: 2242190.281876971\n",
      "Coefficients: [ 5053.54113049  -291.24809122  -232.42561352 -1437.38719943\n",
      "    42.80546405    37.23853445]\n",
      "Intercept: 3939.4907072673373\n"
     ]
    }
   ],
   "source": [
    "# Required Libraries\n",
    "import seaborn as sns\n",
    "import pandas as pd\n",
    "from sklearn.model_selection import train_test_split\n",
    "from sklearn.linear_model import Ridge\n",
    "from sklearn.metrics import mean_squared_error, r2_score\n",
    "from sklearn.preprocessing import StandardScaler\n",
    "\n",
    "# 1. Load Dataset\n",
    "df = sns.load_dataset('diamonds')\n",
    "print(df.head())\n",
    "\n",
    "# 2. Select useful numeric features\n",
    "features = ['carat', 'depth', 'table', 'x', 'y', 'z']\n",
    "target = 'price'\n",
    "\n",
    "X = df[features]\n",
    "y = df[target]\n",
    "\n",
    "# 3. Train-Test Split\n",
    "X_train, X_test, y_train, y_test = train_test_split(X, y, test_size=0.2, random_state=42)\n",
    "\n",
    "# 4. Feature Scaling (important for Ridge)\n",
    "scaler = StandardScaler()\n",
    "X_train_scaled = scaler.fit_transform(X_train)\n",
    "X_test_scaled = scaler.transform(X_test)\n",
    "\n",
    "# 5. Ridge Regression\n",
    "ridge = Ridge(alpha=1.0)  # You can try different alpha values like 0.1, 10, etc.\n",
    "ridge.fit(X_train_scaled, y_train)\n",
    "\n",
    "# 6. Prediction\n",
    "y_pred = ridge.predict(X_test_scaled)\n",
    "\n",
    "# 7. Evaluation\n",
    "print(\"R2 Score:\", r2_score(y_test, y_pred))\n",
    "print(\"Mean Squared Error:\", mean_squared_error(y_test, y_pred))\n",
    "print(\"Coefficients:\", ridge.coef_)\n",
    "print(\"Intercept:\", ridge.intercept_)"
   ]
  },
  {
   "cell_type": "code",
   "execution_count": 4,
   "id": "f8b54b9a-dc4f-44bb-99a5-5d9b436f4ebc",
   "metadata": {},
   "outputs": [
    {
     "data": {
      "text/html": [
       "<div>\n",
       "<style scoped>\n",
       "    .dataframe tbody tr th:only-of-type {\n",
       "        vertical-align: middle;\n",
       "    }\n",
       "\n",
       "    .dataframe tbody tr th {\n",
       "        vertical-align: top;\n",
       "    }\n",
       "\n",
       "    .dataframe thead th {\n",
       "        text-align: right;\n",
       "    }\n",
       "</style>\n",
       "<table border=\"1\" class=\"dataframe\">\n",
       "  <thead>\n",
       "    <tr style=\"text-align: right;\">\n",
       "      <th></th>\n",
       "      <th>carat</th>\n",
       "      <th>cut</th>\n",
       "      <th>color</th>\n",
       "      <th>clarity</th>\n",
       "      <th>depth</th>\n",
       "      <th>table</th>\n",
       "      <th>price</th>\n",
       "      <th>x</th>\n",
       "      <th>y</th>\n",
       "      <th>z</th>\n",
       "    </tr>\n",
       "  </thead>\n",
       "  <tbody>\n",
       "    <tr>\n",
       "      <th>0</th>\n",
       "      <td>0.23</td>\n",
       "      <td>Ideal</td>\n",
       "      <td>E</td>\n",
       "      <td>SI2</td>\n",
       "      <td>61.5</td>\n",
       "      <td>55.0</td>\n",
       "      <td>326</td>\n",
       "      <td>3.95</td>\n",
       "      <td>3.98</td>\n",
       "      <td>2.43</td>\n",
       "    </tr>\n",
       "    <tr>\n",
       "      <th>1</th>\n",
       "      <td>0.21</td>\n",
       "      <td>Premium</td>\n",
       "      <td>E</td>\n",
       "      <td>SI1</td>\n",
       "      <td>59.8</td>\n",
       "      <td>61.0</td>\n",
       "      <td>326</td>\n",
       "      <td>3.89</td>\n",
       "      <td>3.84</td>\n",
       "      <td>2.31</td>\n",
       "    </tr>\n",
       "    <tr>\n",
       "      <th>2</th>\n",
       "      <td>0.23</td>\n",
       "      <td>Good</td>\n",
       "      <td>E</td>\n",
       "      <td>VS1</td>\n",
       "      <td>56.9</td>\n",
       "      <td>65.0</td>\n",
       "      <td>327</td>\n",
       "      <td>4.05</td>\n",
       "      <td>4.07</td>\n",
       "      <td>2.31</td>\n",
       "    </tr>\n",
       "    <tr>\n",
       "      <th>3</th>\n",
       "      <td>0.29</td>\n",
       "      <td>Premium</td>\n",
       "      <td>I</td>\n",
       "      <td>VS2</td>\n",
       "      <td>62.4</td>\n",
       "      <td>58.0</td>\n",
       "      <td>334</td>\n",
       "      <td>4.20</td>\n",
       "      <td>4.23</td>\n",
       "      <td>2.63</td>\n",
       "    </tr>\n",
       "    <tr>\n",
       "      <th>4</th>\n",
       "      <td>0.31</td>\n",
       "      <td>Good</td>\n",
       "      <td>J</td>\n",
       "      <td>SI2</td>\n",
       "      <td>63.3</td>\n",
       "      <td>58.0</td>\n",
       "      <td>335</td>\n",
       "      <td>4.34</td>\n",
       "      <td>4.35</td>\n",
       "      <td>2.75</td>\n",
       "    </tr>\n",
       "  </tbody>\n",
       "</table>\n",
       "</div>"
      ],
      "text/plain": [
       "   carat      cut color clarity  depth  table  price     x     y     z\n",
       "0   0.23    Ideal     E     SI2   61.5   55.0    326  3.95  3.98  2.43\n",
       "1   0.21  Premium     E     SI1   59.8   61.0    326  3.89  3.84  2.31\n",
       "2   0.23     Good     E     VS1   56.9   65.0    327  4.05  4.07  2.31\n",
       "3   0.29  Premium     I     VS2   62.4   58.0    334  4.20  4.23  2.63\n",
       "4   0.31     Good     J     SI2   63.3   58.0    335  4.34  4.35  2.75"
      ]
     },
     "execution_count": 4,
     "metadata": {},
     "output_type": "execute_result"
    }
   ],
   "source": [
    "df.head()"
   ]
  },
  {
   "cell_type": "code",
   "execution_count": 6,
   "id": "49142a19-0404-454f-b1c7-8b0da081b1df",
   "metadata": {},
   "outputs": [
    {
     "name": "stdout",
     "output_type": "stream",
     "text": [
      "====== Linear Regression (No Regularization) ======\n",
      "R2 Score: 0.8589542625888937\n",
      "MSE: 2242178.9040856054\n",
      "Coefficients: [ 5056.73604445  -291.50040471  -232.44313939 -1441.45141472\n",
      "    43.18280691    37.80644422]\n",
      "\n",
      "====== Ridge Regression (L2 Regularization) ======\n",
      "R2 Score: 0.858953546861451\n",
      "MSE: 2242190.281876971\n",
      "Coefficients: [ 5053.54113049  -291.24809122  -232.42561352 -1437.38719943\n",
      "    42.80546405    37.23853445]\n"
     ]
    }
   ],
   "source": [
    "# Required Libraries\n",
    "import seaborn as sns\n",
    "import pandas as pd\n",
    "from sklearn.model_selection import train_test_split\n",
    "from sklearn.linear_model import LinearRegression, Ridge\n",
    "from sklearn.metrics import mean_squared_error, r2_score\n",
    "from sklearn.preprocessing import StandardScaler\n",
    "\n",
    "# 1. Load Dataset\n",
    "df = sns.load_dataset('diamonds')\n",
    "\n",
    "# 2. Select numeric features and target\n",
    "features = ['carat', 'depth', 'table', 'x', 'y', 'z']\n",
    "target = 'price'\n",
    "\n",
    "X = df[features]\n",
    "y = df[target]\n",
    "\n",
    "# 3. Train-Test Split\n",
    "X_train, X_test, y_train, y_test = train_test_split(X, y, test_size=0.2, random_state=42)\n",
    "\n",
    "# 4. Feature Scaling\n",
    "scaler = StandardScaler()\n",
    "X_train_scaled = scaler.fit_transform(X_train)\n",
    "X_test_scaled = scaler.transform(X_test)\n",
    "\n",
    "# 5. Linear Regression (No Regularization)\n",
    "lr = LinearRegression()\n",
    "lr.fit(X_train_scaled, y_train)\n",
    "y_pred_lr = lr.predict(X_test_scaled)\n",
    "\n",
    "# 6. Ridge Regression (L2 Regularization)\n",
    "ridge = Ridge(alpha=1.0)  # You can try other values like 0.1, 10, etc.\n",
    "ridge.fit(X_train_scaled, y_train)\n",
    "y_pred_ridge = ridge.predict(X_test_scaled)\n",
    "\n",
    "# 7. Evaluation\n",
    "print(\"====== Linear Regression (No Regularization) ======\")\n",
    "print(\"R2 Score:\", r2_score(y_test, y_pred_lr))\n",
    "print(\"MSE:\", mean_squared_error(y_test, y_pred_lr))\n",
    "print(\"Coefficients:\", lr.coef_)\n",
    "\n",
    "print(\"\\n====== Ridge Regression (L2 Regularization) ======\")\n",
    "print(\"R2 Score:\", r2_score(y_test, y_pred_ridge))\n",
    "print(\"MSE:\", mean_squared_error(y_test, y_pred_ridge))\n",
    "print(\"Coefficients:\", ridge.coef_)"
   ]
  },
  {
   "cell_type": "code",
   "execution_count": 8,
   "id": "9086938c-67ad-466c-bf7f-32efadb330f2",
   "metadata": {},
   "outputs": [
    {
     "name": "stdout",
     "output_type": "stream",
     "text": [
      "====== Linear Regression (No Regularization) ======\n",
      "R2 Score: 0.5757877060324508\n",
      "MSE: 0.5558915986952444\n",
      "Coefficients: [ 0.85438303  0.12254624 -0.29441013  0.33925949 -0.00230772 -0.0408291\n",
      " -0.89692888 -0.86984178]\n",
      "\n",
      "====== Ridge Regression (L2 Regularization) ======\n",
      "R2 Score: 0.5758157428913684\n",
      "MSE: 0.555854858943597\n",
      "Coefficients: [ 0.85432679  0.12262397 -0.29421036  0.33900794 -0.00228221 -0.04083302\n",
      " -0.89616759 -0.86907074]\n"
     ]
    }
   ],
   "source": [
    "# Import libraries\n",
    "import pandas as pd\n",
    "from sklearn.datasets import fetch_california_housing\n",
    "from sklearn.linear_model import LinearRegression, Ridge\n",
    "from sklearn.model_selection import train_test_split\n",
    "from sklearn.preprocessing import StandardScaler\n",
    "from sklearn.metrics import mean_squared_error, r2_score\n",
    "\n",
    "# 1. Load dataset\n",
    "data = fetch_california_housing()\n",
    "X = pd.DataFrame(data.data, columns=data.feature_names)\n",
    "y = pd.Series(data.target, name='Price')\n",
    "\n",
    "# 2. Train-Test Split\n",
    "X_train, X_test, y_train, y_test = train_test_split(X, y, test_size=0.2, random_state=42)\n",
    "\n",
    "# 3. Feature Scaling\n",
    "scaler = StandardScaler()\n",
    "X_train_scaled = scaler.fit_transform(X_train)\n",
    "X_test_scaled = scaler.transform(X_test)\n",
    "\n",
    "# 4. Linear Regression\n",
    "lr = LinearRegression()\n",
    "lr.fit(X_train_scaled, y_train)\n",
    "y_pred_lr = lr.predict(X_test_scaled)\n",
    "\n",
    "# 5. Ridge Regression\n",
    "ridge = Ridge(alpha=1.0)\n",
    "ridge.fit(X_train_scaled, y_train)\n",
    "y_pred_ridge = ridge.predict(X_test_scaled)\n",
    "\n",
    "# 6. Evaluation\n",
    "print(\"====== Linear Regression (No Regularization) ======\")\n",
    "print(\"R2 Score:\", r2_score(y_test, y_pred_lr))\n",
    "print(\"MSE:\", mean_squared_error(y_test, y_pred_lr))\n",
    "print(\"Coefficients:\", lr.coef_)\n",
    "\n",
    "print(\"\\n====== Ridge Regression (L2 Regularization) ======\")\n",
    "print(\"R2 Score:\", r2_score(y_test, y_pred_ridge))\n",
    "print(\"MSE:\", mean_squared_error(y_test, y_pred_ridge))\n",
    "print(\"Coefficients:\", ridge.coef_)"
   ]
  },
  {
   "cell_type": "code",
   "execution_count": null,
   "id": "8947ba5c-3e07-4ad2-9d5f-7a31bb874650",
   "metadata": {},
   "outputs": [],
   "source": []
  }
 ],
 "metadata": {
  "kernelspec": {
   "display_name": "Python 3 (ipykernel)",
   "language": "python",
   "name": "python3"
  },
  "language_info": {
   "codemirror_mode": {
    "name": "ipython",
    "version": 3
   },
   "file_extension": ".py",
   "mimetype": "text/x-python",
   "name": "python",
   "nbconvert_exporter": "python",
   "pygments_lexer": "ipython3",
   "version": "3.12.4"
  }
 },
 "nbformat": 4,
 "nbformat_minor": 5
}
